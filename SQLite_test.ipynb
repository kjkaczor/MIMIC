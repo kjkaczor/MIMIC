{
 "cells": [
  {
   "cell_type": "code",
   "execution_count": 40,
   "metadata": {
    "collapsed": true
   },
   "outputs": [],
   "source": [
    "import sqlite3"
   ]
  },
  {
   "cell_type": "code",
   "execution_count": 41,
   "metadata": {
    "collapsed": true
   },
   "outputs": [],
   "source": [
    "infile = '/home/kjkaczor/Dropbox (MIT)/Research/MIMIC/data/mimiciii_v1_3_mini.sqlite'\n",
    "#infile = '/home/kjkaczor/Dropbox (MIT)/Research/MIMIC/data/test.sqlite'"
   ]
  },
  {
   "cell_type": "code",
   "execution_count": 103,
   "metadata": {
    "collapsed": false
   },
   "outputs": [],
   "source": [
    "conn = sqlite3.connect(infile)\n",
    "curs = conn.cursor()\n",
    "\n",
    "curs.execute(\"\"\"\n",
    "PRAGMA table_info(ADMISSIONS);\n",
    "\"\"\")\n",
    "\n",
    "\n",
    "bla = curs.fetchall()\n",
    "for b in bla:\n",
    "    if b[1].upper() == 'DIAGNOSIS':\n",
    "        dType = b[2]\n",
    "        break;\n",
    "    else:\n",
    "        continue\n",
    "    print \"Bla not found\"\n",
    "\n",
    "#conn.commit()\n",
    "conn.close()\n"
   ]
  },
  {
   "cell_type": "code",
   "execution_count": 106,
   "metadata": {
    "collapsed": false
   },
   "outputs": [
    {
     "data": {
      "text/plain": [
       "False"
      ]
     },
     "execution_count": 106,
     "metadata": {},
     "output_type": "execute_result"
    }
   ],
   "source": [
    "'VARCHARd' in dType"
   ]
  },
  {
   "cell_type": "code",
   "execution_count": 131,
   "metadata": {
    "collapsed": false,
    "scrolled": true
   },
   "outputs": [
    {
     "ename": "Exception",
     "evalue": "Unsupported data type: VARCHAR(255); aborting.",
     "output_type": "error",
     "traceback": [
      "\u001b[1;31m---------------------------------------------------------------------------\u001b[0m",
      "\u001b[1;31mException\u001b[0m                                 Traceback (most recent call last)",
      "\u001b[1;32m<ipython-input-131-beceaa93364e>\u001b[0m in \u001b[0;36m<module>\u001b[1;34m()\u001b[0m\n\u001b[0;32m     10\u001b[0m \u001b[1;31m# db.describe_all_tables()\u001b[0m\u001b[1;33m\u001b[0m\u001b[1;33m\u001b[0m\u001b[0m\n\u001b[0;32m     11\u001b[0m \u001b[1;31m# db.describe_table('ADMISSIONS')[0]\u001b[0m\u001b[1;33m\u001b[0m\u001b[1;33m\u001b[0m\u001b[0m\n\u001b[1;32m---> 12\u001b[1;33m \u001b[0mbla\u001b[0m \u001b[1;33m=\u001b[0m \u001b[0mdb\u001b[0m\u001b[1;33m.\u001b[0m\u001b[0mget_column\u001b[0m\u001b[1;33m(\u001b[0m\u001b[1;34m'admissions'\u001b[0m\u001b[1;33m,\u001b[0m\u001b[1;34m'diagnosis'\u001b[0m\u001b[1;33m)\u001b[0m\u001b[1;33m\u001b[0m\u001b[0m\n\u001b[0m",
      "\u001b[1;32m/home/kjkaczor/Dropbox (MIT)/Research/MIMIC/SQLiteUtilities.pyc\u001b[0m in \u001b[0;36mget_column\u001b[1;34m(self, table, column)\u001b[0m\n\u001b[0;32m     67\u001b[0m             \u001b[1;32mreturn\u001b[0m \u001b[0mnp\u001b[0m\u001b[1;33m.\u001b[0m\u001b[0marray\u001b[0m\u001b[1;33m(\u001b[0m\u001b[0mcol\u001b[0m\u001b[1;33m)\u001b[0m\u001b[1;33m\u001b[0m\u001b[0m\n\u001b[0;32m     68\u001b[0m         \u001b[1;32melse\u001b[0m\u001b[1;33m:\u001b[0m\u001b[1;33m\u001b[0m\u001b[0m\n\u001b[1;32m---> 69\u001b[1;33m             \u001b[1;32mraise\u001b[0m \u001b[0mException\u001b[0m\u001b[1;33m(\u001b[0m\u001b[1;34m\"Unsupported data type: %s; aborting.\"\u001b[0m \u001b[1;33m%\u001b[0m \u001b[0mdType\u001b[0m\u001b[1;33m)\u001b[0m\u001b[1;33m\u001b[0m\u001b[0m\n\u001b[0m\u001b[0;32m     70\u001b[0m \u001b[1;33m\u001b[0m\u001b[0m\n\u001b[0;32m     71\u001b[0m \u001b[1;33m\u001b[0m\u001b[0m\n",
      "\u001b[1;31mException\u001b[0m: Unsupported data type: VARCHAR(255); aborting."
     ]
    }
   ],
   "source": [
    "import SQLiteUtilities; reload(SQLiteUtilities)\n",
    "from SQLiteUtilities import SQL\n",
    "db = SQL(infile)\n",
    "db.get_tables()\n",
    "# db.print_tables(pprint=True)\n",
    "# for table in db.get_tables():\n",
    "#     print table\n",
    "#     print db.describe_table('ADMISSIONS')\n",
    "#     print\n",
    "# db.describe_all_tables()\n",
    "# db.describe_table('ADMISSIONS')[0]\n",
    "bla = db.get_column('admissions','diagnosis')"
   ]
  },
  {
   "cell_type": "code",
   "execution_count": 130,
   "metadata": {
    "collapsed": false
   },
   "outputs": [
    {
     "data": {
      "text/plain": [
       "array([20001, 20002, 20004, 20005, 20006, 20007, 20007, 20007, 20009,\n",
       "       20009, 20009, 20009, 20010, 20011, 20012, 20023, 20026, 20028,\n",
       "       20033, 20036, 20036, 20043, 20047, 20050, 20057, 20060, 20060,\n",
       "       20061, 20061, 20061, 20062, 20062, 20068, 20072, 20073, 20079,\n",
       "       20086, 20086, 20086, 20089, 20091, 20094, 20095, 20100, 20101,\n",
       "       20101, 20101, 20102, 20107, 20113, 20115, 20116, 20116, 20117,\n",
       "       20121, 20121, 20124, 20124, 20124, 20124, 20124, 20124, 20124,\n",
       "       20124, 20124, 20124, 20125, 20125, 20126, 20130, 20130, 20131,\n",
       "       20133, 20133, 20133, 20133, 20133, 20133, 20134, 20140, 20140,\n",
       "       20140, 20143, 20149, 20152, 20154, 20155, 20165, 20166, 20171,\n",
       "       20172, 20173, 20173, 20173, 20174, 20180, 20181, 20181, 20181,\n",
       "       20181, 20181, 20181, 20182, 20183, 20187, 20187, 20190, 20190,\n",
       "       20190, 20190, 20190, 20190, 20190, 20193, 20194, 20200, 20201,\n",
       "       20204, 20204, 20204, 20207, 20209, 20211, 20213, 20216, 20218,\n",
       "       20220, 20223, 20224, 20225, 20242, 20242, 20243, 20244, 20245,\n",
       "       20247, 20248, 20248, 20248, 20248, 20249, 20249, 20252, 20253,\n",
       "       20254, 20255, 20260, 20264, 20276, 20279, 20280, 20283, 20284,\n",
       "       20288, 20291, 20296, 20296])"
      ]
     },
     "execution_count": 130,
     "metadata": {},
     "output_type": "execute_result"
    }
   ],
   "source": [
    "bla"
   ]
  },
  {
   "cell_type": "code",
   "execution_count": 128,
   "metadata": {
    "collapsed": true
   },
   "outputs": [],
   "source": [
    "import statsmodels.api as sm\n",
    "import statsmodels.formula.api as smf"
   ]
  },
  {
   "cell_type": "code",
   "execution_count": null,
   "metadata": {
    "collapsed": true
   },
   "outputs": [],
   "source": []
  }
 ],
 "metadata": {
  "kernelspec": {
   "display_name": "Python 2",
   "language": "python",
   "name": "python2"
  },
  "language_info": {
   "codemirror_mode": {
    "name": "ipython",
    "version": 2
   },
   "file_extension": ".py",
   "mimetype": "text/x-python",
   "name": "python",
   "nbconvert_exporter": "python",
   "pygments_lexer": "ipython2",
   "version": "2.7.9"
  }
 },
 "nbformat": 4,
 "nbformat_minor": 0
}
